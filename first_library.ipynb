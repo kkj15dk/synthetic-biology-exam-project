{
 "cells": [
  {
   "cell_type": "code",
   "execution_count": 1,
   "metadata": {
    "id": "39a192ea-7f27-4102-9aec-1d47072a83c5"
   },
   "outputs": [],
   "source": [
    "import pandas as pd\n",
    "from pydna.dseqrecord import Dseqrecord\n",
    "from IPython import display\n",
    "import os\n",
    "\n",
    "# to show assemblies\n",
    "from pydna.assembly import Assembly\n",
    "\n",
    "# Show pictures\n",
    "import IPython.core.display\n",
    "\n",
    "# For making the genetic construct figure \n",
    "import dnaplotlib\n",
    "import matplotlib.pyplot as plt\n",
    "from matplotlib import gridspec"
   ]
  },
  {
   "attachments": {},
   "cell_type": "markdown",
   "metadata": {},
   "source": [
    "# 02_1_DESIGN_Combinatorial_library"
   ]
  },
  {
   "attachments": {},
   "cell_type": "markdown",
   "metadata": {
    "colab_type": "text",
    "id": "view-in-github"
   },
   "source": [
    "This document is based on a notebook from the teemi documentation, see it below:\n",
    "\n",
    "<a target=\"_blank\" href=\"https://colab.research.google.com/github/hiyama341/teemi/blob/main/colab_notebooks/02_1_DESIGN_Combinatorial_library.ipynb\">\n",
    "  <img src=\"https://colab.research.google.com/assets/colab-badge.svg\" alt=\"Open In Colab\"/>\n",
    "</a>"
   ]
  },
  {
   "attachments": {},
   "cell_type": "markdown",
   "metadata": {
    "id": "e27a8705-41bf-4c90-830d-0fc8e5c56988",
    "tags": []
   },
   "source": [
    "## 1.1 Data aquisition and processing\n",
    "To build a combinatorial library from the generated promoters and homologs some of them need to be reversed. Namely, the upstream part from the bidirectional promoters which we can easily do with a simple Python trick (see below). "
   ]
  },
  {
   "cell_type": "code",
   "execution_count": 2,
   "metadata": {},
   "outputs": [],
   "source": [
    "from teemi.design.fetch_sequences import read_genbank_files"
   ]
  },
  {
   "cell_type": "code",
   "execution_count": 3,
   "metadata": {},
   "outputs": [
    {
     "name": "stdout",
     "output_type": "stream",
     "text": [
      "[SeqRecord(seq=Seq('ACCAACATGGCTCTGCCGCTTTCTATGGCTGCAGCTGCTCTACTCATTATATGC...TGA'), id='Cyp450-PC-PAH_1', name='Cyp450-PC-PAH_1', description='', dbxrefs=[]), SeqRecord(seq=Seq('ATGTCTCGTTTTCTTTACGACTACTCGACGCTCCTGTATCTCTGTGCCGGCATC...TGA'), id='Cyp450s-PC-PAH_3', name='Cyp450s-PC-PAH_3', description='', dbxrefs=[])]\n",
      "[SeqRecord(seq=Seq('ATGTCGAGGTTTCACTCTCTTTTCGCTTTCGTCGTTGCTTCCCTTACGGCTGTG...TAA'), id='AF414109', name='AF414109', description='', dbxrefs=[]), SeqRecord(seq=Seq('ATGTCGAGGTTTCACTCTCTTCTCGCTTTCGTCGTTGCTTCCCTTGCGGCTGTG...TAA'), id='Laccase_Trametes_versic', name='Laccase_Trametes_versic', description='', dbxrefs=[])]\n",
      "[SeqRecord(seq=Seq('ATGGCTTTCAAAACTCTCGCCTCTCTCCTCTCGGTTCTGGTCACCATCCAGGTC...TAA'), id='100%_Manganese_peroxida', name='100%_Manganese_peroxida', description='', dbxrefs=[]), SeqRecord(seq=Seq('ATGGCGTTCAAGCTCCTGGCTTCCTTCGTCTCTCTTCTCGCGGCCCTTCAAGTC...TAA'), id='Manganese_peroxidase_(m', name='Manganese_peroxidase_(m', description='', dbxrefs=[])]\n",
      "[SeqRecord(seq=Seq('ATGGCTTTCAAGTCTCTTCTTTCTTTTGTCTCGGTCATTGGAGCGCTCCAGGGC...TAA'), id='Lignin_peroxidase_(LPG1', name='Lignin_peroxidase_(LPG1', description='', dbxrefs=[])]\n",
      "[SeqRecord(seq=Seq('TTTGATAGATGTGAATTAAAAAAGGTTTGCGTGTGTGGAATTAAGATTGATAGA...AAA'), id='A._clavatus_h4h3', name='A._clavatus_h4h3', description='', dbxrefs=[]), SeqRecord(seq=Seq('TGTGAAGGTTGTCTATAAAGTAAACGGAAATAGAGTTGAATTAAAGTTGAGGGT...AAG'), id='A._niger_h4h3', name='A._niger_h4h3', description='', dbxrefs=[])]\n",
      "[SeqRecord(seq=Seq('ATGCGTAAAGGCGAAGAGCTGTTCACTGGTGTCGTCCCTATTCTGGTGGAACTG...TGA'), id='GFP', name='GFP', description='', dbxrefs=[]), SeqRecord(seq=Seq('ATGGTGAGCAAGGGCGAGGAGCTGTTCACCGGGGTGGTGCCCATCCTGGTCGAG...TAA'), id='mCitrine', name='mCitrine', description='', dbxrefs=[]), SeqRecord(seq=Seq('ATGGCCTCCTCCGAGGACGTCATCAAGGAGTTCATGCGCTTCAAGGTGCGCATG...TAA'), id='mRFP', name='mRFP', description='', dbxrefs=[]), SeqRecord(seq=Seq('ATGTTACGTCCTGTAGAAACCCCAACCCGTGAAATCAAAAAACTCGACGGCCTG...TGA'), id='uidA', name='uidA', description='', dbxrefs=[])]\n",
      "[SeqRecord(seq=Seq('ATGCGTAAAGGCGAAGAGCTGTTCACTGGTGTCGTCCCTATTCTGGTGGAACTG...TGA'), id='GFP', name='GFP', description='', dbxrefs=[]), SeqRecord(seq=Seq('ATGGTGAGCAAGGGCGAGGAGCTGTTCACCGGGGTGGTGCCCATCCTGGTCGAG...TAA'), id='mCitrine', name='mCitrine', description='', dbxrefs=[]), SeqRecord(seq=Seq('ATGGCCTCCTCCGAGGACGTCATCAAGGAGTTCATGCGCTTCAAGGTGCGCATG...TAA'), id='mRFP', name='mRFP', description='', dbxrefs=[]), SeqRecord(seq=Seq('ATGTTACGTCCTGTAGAAACCCCAACCCGTGAAATCAAAAAACTCGACGGCCTG...TGA'), id='uidA', name='uidA', description='', dbxrefs=[])]\n"
     ]
    }
   ],
   "source": [
    "path = 'data/Export/Synthetic biology project/'\n",
    "CYP_CDSs = []\n",
    "for file in os.listdir(path+'CDSs/CYP450/'):\n",
    "    if file.endswith('.gb'):\n",
    "        CYP_CDSs = CYP_CDSs + read_genbank_files(path+'CDSs/cyp450/'+file)\n",
    "print(CYP_CDSs)\n",
    "\n",
    "Lac_CDSs = []\n",
    "for file in os.listdir(path+'CDSs/Laccase/'):\n",
    "    if file.endswith('.gb'):\n",
    "        Lac_CDSs = Lac_CDSs + read_genbank_files(path+'CDSs/Laccase/'+file)\n",
    "print(Lac_CDSs)\n",
    "\n",
    "MnO_CDSs = []\n",
    "for file in os.listdir(path+'CDSs/MnPeroxidase/'):\n",
    "    if file.endswith('.gb'):\n",
    "        MnO_CDSs = MnO_CDSs + read_genbank_files(path+'CDSs/MnPeroxidase/'+file)\n",
    "print(MnO_CDSs)\n",
    "\n",
    "LiO_CDSs = []\n",
    "for file in os.listdir(path+'CDSs/LigninPeroxidase/'):\n",
    "    if file.endswith('.gb'):\n",
    "        LiO_CDSs = LiO_CDSs + read_genbank_files(path+'CDSs/LigninPeroxidase/'+file)\n",
    "print(LiO_CDSs)\n",
    "\n",
    "ph4h3 = []\n",
    "for file in os.listdir(path+'Promoters/Bidirectional'):\n",
    "    if file.endswith('.gb'):\n",
    "        ph4h3 = ph4h3 + read_genbank_files(path+'Promoters/Bidirectional/'+file)\n",
    "print(ph4h3)\n",
    "\n",
    "reporter_CDSs = []\n",
    "for file in os.listdir(path+'reporters'):\n",
    "    if file.endswith('.gb'):\n",
    "        reporter_CDSs = reporter_CDSs + read_genbank_files(path+'reporters/'+file)\n",
    "print(reporter_CDSs)\n",
    "\n",
    "reporter_CDSs_rv = []\n",
    "for file in os.listdir(path+'reporters'):\n",
    "    if file.endswith('.gb'):\n",
    "        reporter_CDSs_rv = reporter_CDSs_rv + read_genbank_files(path+'reporters/'+file)\n",
    "print(reporter_CDSs_rv)\n"
   ]
  },
  {
   "cell_type": "code",
   "execution_count": 4,
   "metadata": {},
   "outputs": [],
   "source": [
    "# we have to reverse the sequences here bc we want to have bi-directional promoters\n",
    "for seq in CYP_CDSs: \n",
    "    seq.seq = seq.seq[::-1]\n",
    "    \n",
    "for seq in MnO_CDSs: \n",
    "    seq.seq = seq.seq[::-1]\n",
    "\n",
    "for seq in reporter_CDSs_rv: \n",
    "    seq.seq = seq.seq[::-1]"
   ]
  },
  {
   "cell_type": "code",
   "execution_count": 5,
   "metadata": {},
   "outputs": [
    {
     "data": {
      "text/plain": [
       "[SeqRecord(seq=Seq('AGTAAACATGTCAAGTAGGTATGGTACGCACTACGGGCGACGCCAATGCTTGAG...GTA'), id='GFP', name='GFP', description='', dbxrefs=[]),\n",
       " SeqRecord(seq=Seq('AATGAACATGTCGAGCAGGTACGGCTCTCACTAGGGCCGCCGCCAGTGCTTGAG...GTA'), id='mCitrine', name='mCitrine', description='', dbxrefs=[]),\n",
       " SeqRecord(seq=Seq('AATTACTACTACTACTACTACCCGCGGCCACCTCACCGCCGGGAGCCGCGCGAG...GTA'), id='mRFP', name='mRFP', description='', dbxrefs=[]),\n",
       " SeqRecord(seq=Seq('AGTAACAAACGGAGGGACGACGCCAAAAAGTGGCTTCAAGTACGGTCAGGTCGC...GTA'), id='uidA', name='uidA', description='', dbxrefs=[])]"
      ]
     },
     "execution_count": 5,
     "metadata": {},
     "output_type": "execute_result"
    }
   ],
   "source": [
    "MnO_CDSs\n",
    "ph4h3[0]\n",
    "reporter_CDSs_rv"
   ]
  },
  {
   "cell_type": "code",
   "execution_count": 6,
   "metadata": {},
   "outputs": [
    {
     "data": {
      "text/plain": [
       "[SeqRecord(seq=Seq('ATGCGTAAAGGCGAAGAGCTGTTCACTGGTGTCGTCCCTATTCTGGTGGAACTG...TGA'), id='GFP', name='GFP', description='', dbxrefs=[]),\n",
       " SeqRecord(seq=Seq('ATGGTGAGCAAGGGCGAGGAGCTGTTCACCGGGGTGGTGCCCATCCTGGTCGAG...TAA'), id='mCitrine', name='mCitrine', description='', dbxrefs=[]),\n",
       " SeqRecord(seq=Seq('ATGGCCTCCTCCGAGGACGTCATCAAGGAGTTCATGCGCTTCAAGGTGCGCATG...TAA'), id='mRFP', name='mRFP', description='', dbxrefs=[]),\n",
       " SeqRecord(seq=Seq('ATGTTACGTCCTGTAGAAACCCCAACCCGTGAAATCAAAAAACTCGACGGCCTG...TGA'), id='uidA', name='uidA', description='', dbxrefs=[])]"
      ]
     },
     "execution_count": 6,
     "metadata": {},
     "output_type": "execute_result"
    }
   ],
   "source": [
    "MnO_CDSs\n",
    "ph4h3[0]\n",
    "reporter_CDSs"
   ]
  },
  {
   "attachments": {},
   "cell_type": "markdown",
   "metadata": {
    "id": "7df2ad69-e271-4aed-8031-43100bb71772"
   },
   "source": [
    "Lets check that the information is read in, correctly and that the right amount of constructs are there and no mistakes have been made. "
   ]
  },
  {
   "cell_type": "code",
   "execution_count": 7,
   "metadata": {
    "colab": {
     "base_uri": "https://localhost:8080/"
    },
    "id": "606eef53-28ea-4fe2-aedd-7d38848184a4",
    "outputId": "659dbaa4-da27-4478-c110-7d2037caedd4"
   },
   "outputs": [
    {
     "name": "stdout",
     "output_type": "stream",
     "text": [
      "ID: Cyp450-PC-PAH_1\n",
      "Name: Cyp450-PC-PAH_1\n",
      "Number of features: 2\n",
      "/molecule_type=ds-DNA\n",
      "/topology=linear\n",
      "/data_file_division=   \n",
      "/date=18-NOV-2023\n",
      "/keywords=['\"accession:AY515588\"']\n",
      "/comment=Imported from database: NCBI Nucleotide (Genbank) Entry: AY515588\n",
      "Description: Phanerochaete chrysosporium PAH-inducible cytochrome\n",
      "P450 monooxygenase PC-PAH 1 mRNA, complete cds\n",
      "Seq('AGTGTGACCTTGTTGGGCGTCGCCGTAGACCTTTGGAAGCACGTCGAAGGGGAA...CCA')\n"
     ]
    }
   ],
   "source": [
    "print(CYP_CDSs[0])"
   ]
  },
  {
   "cell_type": "code",
   "execution_count": 8,
   "metadata": {
    "colab": {
     "base_uri": "https://localhost:8080/"
    },
    "id": "beb12ed4-b734-4734-a8dd-c97ad8e41a3f",
    "outputId": "7845e05d-a3e0-4f55-a51c-05e32dcb97b7"
   },
   "outputs": [],
   "source": [
    "# print(len(pCPR_sites))\n",
    "# print(len(CPR_sites))\n",
    "# print(len(CYP_sites))\n",
    "# print(len(pCYP_sites))\n",
    "\n",
    "# print('Total combinations', len(CPR_sites)*len(pCPR_sites)*len(pCYP_sites)*len(CYP_sites))"
   ]
  },
  {
   "attachments": {},
   "cell_type": "markdown",
   "metadata": {
    "id": "59358907-37e7-4d02-9208-76ec57dd4184"
   },
   "source": [
    "Now lets fetch the up/down sites of XI-2 and the Trp marker. "
   ]
  },
  {
   "cell_type": "code",
   "execution_count": 9,
   "metadata": {},
   "outputs": [
    {
     "name": "stdout",
     "output_type": "stream",
     "text": [
      "[SeqRecord(seq=Seq('CCCCCGTGTCAAACCTTCTCGCCTGCTCACACAATCCCAGGGCCCAATGATGAT...TCC'), id='is1_A_TtrpC_brunneo', name='is1_A_TtrpC_brunneo', description='', dbxrefs=[]), SeqRecord(seq=Seq('GGACCCTACCAACGTTTTCGACATCGTCCGGAAGTTGGGTGAGTCTGGGCGCAA...AGC'), id='is1_B_TtrpC_clavatus', name='is1_B_TtrpC_clavatus', description='', dbxrefs=[]), SeqRecord(seq=Seq('ATTACGTAGAGAGAGCACGGAACTTGTCAATCCTTGTTCTTTATTTTTTCATTT...TCC'), id='is2_A_TtrpC_nidulans', name='is2_A_TtrpC_nidulans', description='', dbxrefs=[]), SeqRecord(seq=Seq('AGATCCCACCAATGTTGCTGGCATTGTCCAGAAGCTTGGCGAATCCGGTCGCAA...AGA'), id='is2_B_TtrpC_niger', name='is2_B_TtrpC_niger', description='', dbxrefs=[])]\n"
     ]
    }
   ],
   "source": [
    "ISs_arms = []\n",
    "for file in os.listdir(path+'ISs/Homology arms/'):\n",
    "    if file.endswith('.gb'):\n",
    "        ISs_arms = ISs_arms + read_genbank_files(path+'ISs/Homology arms/'+file)\n",
    "print(ISs_arms)"
   ]
  },
  {
   "cell_type": "code",
   "execution_count": null,
   "metadata": {
    "id": "cd06e65d-c03b-4529-b253-c8eeedcc4af0"
   },
   "outputs": [],
   "source": []
  },
  {
   "attachments": {},
   "cell_type": "markdown",
   "metadata": {
    "id": "24f734f4-1d52-4da1-980c-45d40314a574"
   },
   "source": [
    "Now the terminators ADH1 and CYC1"
   ]
  },
  {
   "attachments": {},
   "cell_type": "markdown",
   "metadata": {
    "id": "fdfde947-3720-43fd-bfc5-3bd33cc9cb10"
   },
   "source": [
    "Now, the sequences needs to be made into Dseqrecord elements to make it into a DesignAssembly class. The names for these objects also need to be retrieved. "
   ]
  },
  {
   "cell_type": "code",
   "execution_count": 10,
   "metadata": {
    "id": "fd3c2726-26ab-4f7a-b945-0147557155f0"
   },
   "outputs": [],
   "source": [
    "#Getting the objects names\n",
    "ISs_arms_names = [names.name for names in ISs_arms]\n",
    "CYP_templates_names = [names.name for names in CYP_CDSs]\n",
    "Lac_templates_names = [names.name for names in Lac_CDSs]\n",
    "MnO_templates_names = [names.name for names in MnO_CDSs]\n",
    "LiO_templates_names = [names.name for names in LiO_CDSs]\n",
    "ph4h3_templates_names = [names.name for names in ph4h3]\n",
    "reporter_template_names = [names.name for names in reporter_CDSs]\n",
    "reporter_rv_template_names = [names.name for names in reporter_CDSs_rv]\n",
    "\n",
    "# Getting their sequences\n",
    "ISs_arms_seqrecord = [Dseqrecord(seq) for seq in ISs_arms]\n",
    "CYP_templates_seqrecord = [Dseqrecord(seq) for seq in CYP_CDSs]\n",
    "Lac_templates_seqrecord = [Dseqrecord(seq) for seq in Lac_CDSs]\n",
    "MnO_templates_seqrecord = [Dseqrecord(seq) for seq in MnO_CDSs]\n",
    "LiO_templates_seqrecord = [Dseqrecord(seq) for seq in LiO_CDSs]\n",
    "ph4h3_templates_seqrecord = [Dseqrecord(seq) for seq in ph4h3]\n",
    "reporter_templates_seqrecord = [Dseqrecord(seq) for seq in reporter_CDSs_rv]\n",
    "reporter_rv_templates_seqrecord = [Dseqrecord(seq) for seq in reporter_CDSs_rv]\n"
   ]
  },
  {
   "cell_type": "code",
   "execution_count": 11,
   "metadata": {
    "colab": {
     "base_uri": "https://localhost:8080/"
    },
    "id": "f868be07-695e-4cca-900c-3d2bda90f5b6",
    "outputId": "90a9a728-b8d0-44f5-d355-f64185f045a9"
   },
   "outputs": [
    {
     "data": {
      "text/plain": [
       "'A._clavatus_h4h3'"
      ]
     },
     "execution_count": 11,
     "metadata": {},
     "output_type": "execute_result"
    }
   ],
   "source": [
    "ph4h3_templates_seqrecord[0].name\n"
   ]
  },
  {
   "attachments": {},
   "cell_type": "markdown",
   "metadata": {},
   "source": [
    "### Making a figure of the genetic construct"
   ]
  },
  {
   "cell_type": "code",
   "execution_count": 12,
   "metadata": {
    "jupyter": {
     "source_hidden": true
    },
    "tags": []
   },
   "outputs": [],
   "source": [
    "dtured = '#C4000D'\n",
    "blue = '#1F3DFF'\n",
    "brightgreen = '#4FFF57'\n",
    "green = '#00C700'\n",
    "purple = '#540AFF'\n",
    "orange = '#FF5924'\n",
    "red = '#FF2459'\n",
    "navyblue = '#000066'\n",
    "yellow = '#F2D42E'\n",
    "\n",
    "mRFP = {'name':'mRFP', 'start':76, 'end':95, 'type':'CDS', 'opts': {'label': 'mRFP', 'fontsize': 8,  'label_y_offset': 0, 'label_x_offset': 0, 'label_style':'italic', 'color':dtured}}\n",
    "allgenes = {'name':'allgenes', 'start':-21, 'end':-40, 'type':'CDS', 'opts':{'label': 'all genes', 'fontsize': 8,  'label_y_offset': 0, 'label_x_offset': 0, 'label_style':'italic', 'color':orange}} \n",
    "\n",
    "prv1 = {'name':'Prv', 'start':-1, 'end':-10, 'type':'Promoter', 'opts': {'color':[0.00,0.00,0.00]}}\n",
    "CYP = {'name':'CYP450-homologs', 'start':-21, 'end':-40, 'type':'CDS', 'opts':{'label': 'CYP450', 'fontsize': 8,  'label_y_offset': 0, 'label_x_offset': 0, 'label_style':'italic', 'color':blue}} \n",
    "t_tef1 = {'name':'T_tef1', 'start':-41, 'end':-55, 'type':'Terminator'}\n",
    "IS1A = {'name':'IS1_A', 'start':-41, 'end':-55, 'type':'Scar', 'opts':{'label': 'IS1 A',  'label_y_offset': 3, 'label_x_offset': 0,  'color':[0.60,0.60,0.60]}}\n",
    "\n",
    "pfw1 = {'name':'Pfw', 'start':56, 'end':65, 'type':'Promoter', 'opts': {'color':[0.00,0.00,0.00]}}\n",
    "Lac = {'name':'Laccase-homologs', 'start':76, 'end':95, 'type':'CDS', 'opts':{'label': 'Laccase', 'fontsize': 8,  'label_y_offset': 0, 'label_x_offset': -2, 'label_style':'italic', 'color':brightgreen}} \n",
    "t_trpC1 = {'name':'T_trpC', 'start':96, 'end':110, 'type':'Terminator'}\n",
    "IS1B = {'name':'IS1_B', 'start':-10, 'end':-55, 'type':'Scar', 'opts':{'label': 'IS1 B',  'label_y_offset': 3, 'label_x_offset': 0,  'color':[0.60,0.60,0.60]}}\n",
    "\n",
    "\n",
    "prv2 = {'name':'Prv', 'start':-1, 'end':-10, 'type':'Promoter', 'opts': {'color':[0.00,0.00,0.00]}}\n",
    "MnO = {'name':'MnO-homologs', 'start':-21, 'end':-40, 'type':'CDS', 'opts':{'label': 'Mn peroxidase', 'fontsize': 8,  'label_y_offset': 0, 'label_x_offset': 0, 'label_style':'italic', 'color':purple}} \n",
    "t_tef2 = {'name':'T_tef1', 'start':-41, 'end':-55, 'type':'Terminator'}\n",
    "IS2A = {'name':'IS2_A', 'start':-41, 'end':-55, 'type':'Scar', 'opts':{'label': 'IS2 A',  'label_y_offset': 3, 'label_x_offset': 0,  'color':[0.60,0.60,0.60]}}\n",
    "\n",
    "pfw2 = {'name':'Pfw', 'start':56, 'end':65, 'type':'Promoter', 'opts': {'color':[0.00,0.00,0.00]}}\n",
    "LiO = {'name':'LiO-homologs', 'start':76, 'end':95, 'type':'CDS', 'opts':{'label': ' Lignin peroxidase', 'fontsize': 8,  'label_y_offset': 0, 'label_x_offset': -2, 'label_style':'italic', 'color':green}} \n",
    "t_trpC2 = {'name':'T_trpC', 'start':96, 'end':110, 'type':'Terminator'}\n",
    "IS2B = {'name':'IS2_B', 'start':-41, 'end':-55, 'type':'Scar', 'opts':{'label': 'IS2 B',  'label_y_offset': 3, 'label_x_offset': 0,  'color':[0.60,0.60,0.60]}}\n",
    "\n",
    "prv3 = {'name':'Prv', 'start':-1, 'end':-10, 'type':'Promoter', 'opts': {'color':[0.00,0.00,0.00]}}\n",
    "pfw3 = {'name':'Pfw', 'start':56, 'end':65, 'type':'Promoter', 'opts': {'color':[0.00,0.00,0.00]}}\n",
    "t_tef3 = {'name':'T_tef1', 'start':-41, 'end':-55, 'type':'Terminator'}\n",
    "t_trpC3 = {'name':'T_trpC', 'start':96, 'end':110, 'type':'Terminator'}"
   ]
  },
  {
   "attachments": {},
   "cell_type": "markdown",
   "metadata": {
    "id": "677f4cf4-98a2-4c01-8540-67c4c5e76413"
   },
   "source": [
    "Now, for making the G8H de-bottlenecking construct. This can be achieved by following the scheme below and adding the genetic parts into lists that will be put into: 1) list of sequences 2) a list of names (final product - list of list)"
   ]
  },
  {
   "cell_type": "code",
   "execution_count": 13,
   "metadata": {},
   "outputs": [
    {
     "data": {
      "image/png": "[encoded data removed]",
      "text/plain": [
       "<IPython.core.display.Image object>"
      ]
     },
     "execution_count": 13,
     "metadata": {
      "image/png": {
       "width": 2000
      }
     },
     "output_type": "execute_result"
    }
   ],
   "source": [
    "plt.figure(figsize=(10, 3),dpi=300)\n",
    "gs = gridspec.GridSpec(1, 1)\n",
    "\n",
    "# Plot G8H construct\n",
    "ax = plt.subplot(gs[0])\n",
    "dnaplotlib.plot_sbol_designs([ax], [[IS1A, t_tef1, allgenes, prv1, pfw1, mRFP, t_trpC1, IS1B]])\n",
    "\n",
    "#### Plot text\n",
    "# terminators\n",
    "plt.text(11,-18, ' T_trpC \\n brunneoviolaceus', ha='left', rotation=0, wrap=True,  size = 5,\n",
    "         # adds box\n",
    "        bbox=dict(boxstyle=\"round\",facecolor='white'))\n",
    "plt.text(124,15, ' T_trpC \\n clavatus', ha='left', rotation=0, wrap=True,  size = 5,\n",
    "         # adds box\n",
    "        bbox=dict(boxstyle=\"round\",facecolor='white'))\n",
    "\n",
    "# promoters\n",
    "\n",
    "plt.text(59, 15, ' A. niger h4h3 \\n A. clavatus h4h3', ha='left', rotation=0, wrap=True,  size = 5,\n",
    "         # adds box\n",
    "        bbox=dict(boxstyle=\"round\",facecolor=yellow))\n",
    "\n",
    "\n",
    "# allgenes\n",
    "plt.text(33,10, ' CYP450 \\n Laccase \\n Mn peroxidase \\n Lignin peroxidase', ha='left', rotation=0, wrap=True,  size = 5, \n",
    "        # adds box\n",
    "        bbox=dict(boxstyle=\"round\",facecolor=orange))\n",
    "\n",
    "name = 'Genetic construct w dnaplotlib mRFP'\n",
    "#plt.savefig('G8H_CPR_library/Data/Plots_for_publication/'+name+'.pdf',format = 'pdf',  dpi = 300)\n",
    "plt.savefig('data/plots/'+name+'.png',format = 'png',  dpi = 300)\n",
    "plt.savefig('data/plots/'+name+'.pdf',format = 'pdf',  dpi = 300)\n",
    "\n",
    "IPython.core.display.Image('data/plots/Genetic construct w dnaplotlib mRFP.png', width=2000)"
   ]
  },
  {
   "cell_type": "code",
   "execution_count": 14,
   "metadata": {
    "jupyter": {
     "source_hidden": true
    },
    "tags": []
   },
   "outputs": [
    {
     "data": {
      "image/png": "[encoded data removed]",
      "text/plain": [
       "<IPython.core.display.Image object>"
      ]
     },
     "execution_count": 14,
     "metadata": {
      "image/png": {
       "width": 2000
      }
     },
     "output_type": "execute_result"
    }
   ],
   "source": [
    "plt.figure(figsize=(10, 3),dpi=300)\n",
    "gs = gridspec.GridSpec(1, 1)\n",
    "\n",
    "# Plot G8H construct\n",
    "ax = plt.subplot(gs[0])\n",
    "dnaplotlib.plot_sbol_designs([ax], [[IS1A, t_tef2, CYP, prv2, pfw2,  Lac, t_trpC2, IS1B]])\n",
    "\n",
    "#### Plot text\n",
    "# terminators\n",
    "plt.text(11,-18, ' T_trpC \\n brunneoviolaceus', ha='left', rotation=0, wrap=True,  size = 5,\n",
    "         # adds box\n",
    "        bbox=dict(boxstyle=\"round\",facecolor='white'))\n",
    "plt.text(124,15, ' T_trpC \\n clavatus', ha='left', rotation=0, wrap=True,  size = 5,\n",
    "         # adds box\n",
    "        bbox=dict(boxstyle=\"round\",facecolor='white'))\n",
    "\n",
    "# promoters\n",
    "plt.text(60, 15, ' A. niger h4h3', ha='left', rotation=0, wrap=True,  size = 5,\n",
    "         # adds box\n",
    "        bbox=dict(boxstyle=\"round\",facecolor=yellow))\n",
    "\n",
    "name = 'Genetic construct w dnaplotlib IS1'\n",
    "#plt.savefig('G8H_CPR_library/Data/Plots_for_publication/'+name+'.pdf',format = 'pdf',  dpi = 300)\n",
    "plt.savefig('data/plots/'+name+'.png',format = 'png',  dpi = 300)\n",
    "plt.savefig('data/plots/'+name+'.pdf',format = 'pdf',  dpi = 300)\n",
    "\n",
    "IPython.core.display.Image('data/plots/Genetic construct w dnaplotlib IS1.png', width=2000)"
   ]
  },
  {
   "cell_type": "code",
   "execution_count": 15,
   "metadata": {},
   "outputs": [
    {
     "data": {
      "image/png": "[encoded data removed]",
      "text/plain": [
       "<IPython.core.display.Image object>"
      ]
     },
     "execution_count": 15,
     "metadata": {
      "image/png": {
       "width": 2000
      }
     },
     "output_type": "execute_result"
    }
   ],
   "source": [
    "plt.figure(figsize=(10, 3),dpi=300)\n",
    "gs = gridspec.GridSpec(1, 1)\n",
    "\n",
    "# Plot G8H construct\n",
    "ax = plt.subplot(gs[0])\n",
    "dnaplotlib.plot_sbol_designs([ax], [[IS2A, t_tef3, MnO, prv3, pfw3,  LiO, t_trpC3, IS2B]])\n",
    "\n",
    "#### Plot text\n",
    "# terminators\n",
    "plt.text(11,-18, ' T_trpC \\n nidulans', ha='left', rotation=0, wrap=True,  size = 5,\n",
    "         # adds box\n",
    "        bbox=dict(boxstyle=\"round\",facecolor='white'))\n",
    "plt.text(124,15, ' T_trpC \\n niger', ha='left', rotation=0, wrap=True,  size = 5,\n",
    "         # adds box\n",
    "        bbox=dict(boxstyle=\"round\",facecolor='white'))\n",
    "\n",
    "# promoters\n",
    "\n",
    "plt.text(59, 15, ' A. clavatus h4h3', ha='left', rotation=0, wrap=True,  size = 5,\n",
    "         # adds box\n",
    "        bbox=dict(boxstyle=\"round\",facecolor=yellow))\n",
    "\n",
    "name = 'Genetic construct w dnaplotlib IS2'\n",
    "#plt.savefig('G8H_CPR_library/Data/Plots_for_publication/'+name+'.pdf',format = 'pdf',  dpi = 300)\n",
    "plt.savefig('data/plots/'+name+'.png',format = 'png',  dpi = 300)\n",
    "plt.savefig('data/plots/'+name+'.pdf',format = 'pdf',  dpi = 300)\n",
    "\n",
    "IPython.core.display.Image('data/plots/Genetic construct w dnaplotlib IS2.png', width=2000)"
   ]
  },
  {
   "cell_type": "code",
   "execution_count": 16,
   "metadata": {
    "colab": {
     "base_uri": "https://localhost:8080/"
    },
    "id": "a16fe185-5e29-4669-a22a-ec29a46b20ec",
    "outputId": "501ec7ea-c3cc-48e1-d7b0-ec79e7eac254"
   },
   "outputs": [],
   "source": [
    "# list_of_seqs = [UP_sites_seqrecord, G8H_templates_seqrecord, pG8H_templates_seqrecord, pCPR_templates_seqrecord, G8H_CPR_templates_seqrecord, marker_templates_seqrecord, DW_sites_seqrecord]\n",
    "\n",
    "# list_of_names = [UP_sites_names,G8H_templates_names, pG8H_templates_names, pG8H_CPR_templates_names,G8H_CPR_templates_names, marker_templates_names, DW_sites_names]\n",
    "\n",
    "# # Check that the lists are the same lenght\n",
    "# if len(list_of_seqs) != len(list_of_names): \n",
    "#     print('!!!!!!!!!!!!!!!!!The lengths are not the same, check the sequences!!!!!!!!!!!!!!!!!!')\n",
    "# else: \n",
    "#     print('The lengths are the same')"
   ]
  },
  {
   "attachments": {},
   "cell_type": "markdown",
   "metadata": {
    "id": "34b3e348-fae8-494f-a1b0-b602e8a7683f"
   },
   "source": [
    "Now it's a good idea at this point to make sure that all the objects have been made into Dseqrecords and that they have the right size and configuration.  "
   ]
  },
  {
   "cell_type": "code",
   "execution_count": 71,
   "metadata": {
    "colab": {
     "base_uri": "https://localhost:8080/"
    },
    "id": "9d7a09a8-9b97-467a-9b6d-ba7e901fbd76",
    "outputId": "cb06a152-3df8-4b7d-d0e6-48d667790400"
   },
   "outputs": [],
   "source": [
    "# list_of_names"
   ]
  },
  {
   "attachments": {},
   "cell_type": "markdown",
   "metadata": {
    "id": "7261f023-bf90-47e6-99ec-aa747d816fb2",
    "jp-MarkdownHeadingCollapsed": true,
    "tags": []
   },
   "source": [
    "### Things to look out for when running DesignAssembly. \n",
    "\n",
    "1. if the melting temperature is set too low it will make a warning saying that PCR_prod is not unique. It helps to raise the melting temperature if that happens so it can make longer and unique primers "
   ]
  },
  {
   "attachments": {},
   "cell_type": "markdown",
   "metadata": {
    "id": "72db247a-ddf8-493d-b098-a2bd2ddcfa7f",
    "tags": []
   },
   "source": [
    "# 2. Generating the combinatorial library \n",
    "\n",
    "### Initiating the DesignAssembly class:"
   ]
  },
  {
   "attachments": {},
   "cell_type": "markdown",
   "metadata": {
    "id": "96d04b6e-83bc-4bb8-bdc3-e56fbe9dfc78"
   },
   "source": [
    "Before we initiate the designAssembly object we can define and add a piece of DNA that can be used for easier genotyping and contain a crRNA so we can delete the genetic module if we need to. Below, a pad consisting of a ATF1 CRISPR Guide RNA flanked by arbitrary sequences is inititalized as a pad  "
   ]
  },
  {
   "cell_type": "code",
   "execution_count": 148,
   "metadata": {
    "colab": {
     "base_uri": "https://localhost:8080/"
    },
    "id": "617a21da-a42d-49b1-8f58-f9d4bf2fc556",
    "outputId": "28b6c3a2-9c89-4cda-f049-c3c7daae6dbb"
   },
   "outputs": [
    {
     "data": {
      "text/plain": [
       "Dseq(-0)\n"
      ]
     },
     "execution_count": 148,
     "metadata": {},
     "output_type": "execute_result"
    }
   ],
   "source": [
    "# ATF1_CRISPR_Guide_RNA = 'CTATGCTGTCGGATGAGTCC'   = dummy seq : GTATAGGACGCTATGCTGTCGGATGAGTCCCGTAGAATGA\n",
    "pad_ATF1_CRISPR_Guide_RNA = [Dseqrecord('')] # we could integrate multiple pads it \n",
    "pad_ATF1_CRISPR_Guide_RNA[0].seq"
   ]
  },
  {
   "attachments": {},
   "cell_type": "markdown",
   "metadata": {
    "id": "e5e86718-5d59-4af0-8dfa-26adb8c78ec7"
   },
   "source": [
    "We simply initiate the class by calling it with the list of sequences, their names, the pad, and the position of the pad. \n",
    "This normally takes about 20 sec. "
   ]
  },
  {
   "cell_type": "code",
   "execution_count": 149,
   "metadata": {
    "id": "mFACR1Gi9qmh"
   },
   "outputs": [],
   "source": [
    "from teemi.design.combinatorial_design import DesignAssembly"
   ]
  },
  {
   "cell_type": "code",
   "execution_count": 156,
   "metadata": {
    "colab": {
     "base_uri": "https://localhost:8080/"
    },
    "id": "6c9117c7-7a00-450f-b603-71ab3d1b1972",
    "outputId": "0c0950c5-38b6-4fd3-9023-88c57d3c62a4"
   },
   "outputs": [],
   "source": [
    "\n",
    "list_of_seqs_IS1 = [[ISs_arms_seqrecord[0]], CYP_templates_seqrecord, [ph4h3_templates_seqrecord[1]], Lac_templates_seqrecord, [ISs_arms_seqrecord[1]]]\n",
    "IS1_assembly = DesignAssembly(list_of_seqs_IS1,    \n",
    "                                list_of_pads= pad_ATF1_CRISPR_Guide_RNA,  # The sequence you want to incorporate into the primers. \n",
    "                                positions_of_pads =  [3],  # Position of the pad in the sequence\n",
    "                                target_tm=55,          # Target TM\n",
    "                                limit=13,              # Minimum length of the primers\n",
    "                                overlap=50)            # Overlap between primers\n",
    "\n",
    "list_of_seqs_IS2 = [[ISs_arms_seqrecord[2]], MnO_templates_seqrecord, [ph4h3_templates_seqrecord[0]], LiO_templates_seqrecord, [ISs_arms_seqrecord[3]]]\n",
    "IS2_assembly = DesignAssembly(list_of_seqs_IS2,    \n",
    "                                list_of_pads= pad_ATF1_CRISPR_Guide_RNA,  # The sequence you want to incorporate into the primers. \n",
    "                                positions_of_pads =  [3],  # Position of the pad in the sequence\n",
    "                                target_tm=55,          # Target TM\n",
    "                                limit=13,              # Minimum length of the primers\n",
    "                                overlap=50)            # Overlap between primers"
   ]
  },
  {
   "attachments": {},
   "cell_type": "markdown",
   "metadata": {
    "id": "5b6f03e3-f047-4835-91ef-6269fe36f29e"
   },
   "source": [
    "The DesignAssembly class have class methods attached to it. These include displaying primers, the PCRs that needs to made and a graphical representation of the construts. "
   ]
  },
  {
   "attachments": {},
   "cell_type": "markdown",
   "metadata": {
    "id": "8c961ea8-bdb6-45ab-a674-60d847b011e5",
    "tags": []
   },
   "source": [
    "The methods are as follows: \n",
    "\n",
    "- show_contigs\n",
    "- show_variants_lib_df\n",
    "- primer_list\n",
    "- primer_list_to_dataframe\n",
    "- pcr_list_to_dataframe"
   ]
  },
  {
   "attachments": {},
   "cell_type": "markdown",
   "metadata": {
    "id": "6883a690-1070-4077-ad3a-d447305854c0"
   },
   "source": [
    "Here it is shown how a dataframe with all the variants are generated:"
   ]
  },
  {
   "cell_type": "code",
   "execution_count": 158,
   "metadata": {
    "colab": {
     "base_uri": "https://localhost:8080/",
     "height": 424
    },
    "id": "de260e50-83bb-423c-af7f-7c8cf11165a3",
    "outputId": "f173de93-f239-4ca2-9f96-fd984d9a7344"
   },
   "outputs": [
    {
     "data": {
      "text/html": [
       "<div>\n",
       "<style scoped>\n",
       "    .dataframe tbody tr th:only-of-type {\n",
       "        vertical-align: middle;\n",
       "    }\n",
       "\n",
       "    .dataframe tbody tr th {\n",
       "        vertical-align: top;\n",
       "    }\n",
       "\n",
       "    .dataframe thead th {\n",
       "        text-align: right;\n",
       "    }\n",
       "</style>\n",
       "<table border=\"1\" class=\"dataframe\">\n",
       "  <thead>\n",
       "    <tr style=\"text-align: right;\">\n",
       "      <th></th>\n",
       "      <th>0</th>\n",
       "      <th>1</th>\n",
       "      <th>2</th>\n",
       "      <th>3</th>\n",
       "      <th>4</th>\n",
       "      <th>Systematic_name</th>\n",
       "      <th>Variant</th>\n",
       "    </tr>\n",
       "  </thead>\n",
       "  <tbody>\n",
       "    <tr>\n",
       "      <th>0</th>\n",
       "      <td>is2_A_TtrpC_nidulans</td>\n",
       "      <td>Manganese_peroxidase_(m</td>\n",
       "      <td>A._clavatus_h4h3</td>\n",
       "      <td>Lignin_peroxidase_(LPG1</td>\n",
       "      <td>is2_B_TtrpC_niger</td>\n",
       "      <td>(1, 1, 1, 1, 1)</td>\n",
       "      <td>0</td>\n",
       "    </tr>\n",
       "  </tbody>\n",
       "</table>\n",
       "</div>"
      ],
      "text/plain": [
       "                      0                        1                 2  \\\n",
       "0  is2_A_TtrpC_nidulans  Manganese_peroxidase_(m  A._clavatus_h4h3   \n",
       "\n",
       "                         3                  4  Systematic_name  Variant  \n",
       "0  Lignin_peroxidase_(LPG1  is2_B_TtrpC_niger  (1, 1, 1, 1, 1)        0  "
      ]
     },
     "execution_count": 158,
     "metadata": {},
     "output_type": "execute_result"
    }
   ],
   "source": [
    "combinatorial_lib_variants_IS1_df = IS1_assembly.show_variants_lib_df()\n",
    "combinatorial_lib_variants_IS1_df\n",
    "\n",
    "combinatorial_lib_variants_IS2_df = IS2_assembly.show_variants_lib_df()\n",
    "combinatorial_lib_variants_IS2_df\n"
   ]
  },
  {
   "attachments": {},
   "cell_type": "markdown",
   "metadata": {
    "id": "4b8247ca-ae06-4d4d-9f9c-095ffc5fccc5"
   },
   "source": [
    "We can change the coloumn names to get a better overview. \n"
   ]
  },
  {
   "cell_type": "code",
   "execution_count": 159,
   "metadata": {
    "colab": {
     "base_uri": "https://localhost:8080/",
     "height": 424
    },
    "id": "18618e72-cd10-4b1f-b368-4e682eac73f5",
    "outputId": "13c22c9c-e404-46f5-f95d-a465fef8bd0a"
   },
   "outputs": [
    {
     "data": {
      "text/html": [
       "<div>\n",
       "<style scoped>\n",
       "    .dataframe tbody tr th:only-of-type {\n",
       "        vertical-align: middle;\n",
       "    }\n",
       "\n",
       "    .dataframe tbody tr th {\n",
       "        vertical-align: top;\n",
       "    }\n",
       "\n",
       "    .dataframe thead th {\n",
       "        text-align: right;\n",
       "    }\n",
       "</style>\n",
       "<table border=\"1\" class=\"dataframe\">\n",
       "  <thead>\n",
       "    <tr style=\"text-align: right;\">\n",
       "      <th></th>\n",
       "      <th>A_site</th>\n",
       "      <th>CYP450</th>\n",
       "      <th>Promoter</th>\n",
       "      <th>Laccase</th>\n",
       "      <th>CPR</th>\n",
       "      <th>Systematic_name</th>\n",
       "      <th>Variant</th>\n",
       "    </tr>\n",
       "  </thead>\n",
       "  <tbody>\n",
       "    <tr>\n",
       "      <th>0</th>\n",
       "      <td>is1_A_TtrpC_brunneo</td>\n",
       "      <td>Cyp450-PC-PAH_1</td>\n",
       "      <td>A._niger_h4h3</td>\n",
       "      <td>AF414109</td>\n",
       "      <td>is1_B_TtrpC_clavatus</td>\n",
       "      <td>(1, 1, 1, 1, 1)</td>\n",
       "      <td>0</td>\n",
       "    </tr>\n",
       "    <tr>\n",
       "      <th>1</th>\n",
       "      <td>is1_A_TtrpC_brunneo</td>\n",
       "      <td>Cyp450-PC-PAH_1</td>\n",
       "      <td>A._niger_h4h3</td>\n",
       "      <td>Laccase_Trametes_versic</td>\n",
       "      <td>is1_B_TtrpC_clavatus</td>\n",
       "      <td>(1, 1, 1, 2, 1)</td>\n",
       "      <td>1</td>\n",
       "    </tr>\n",
       "    <tr>\n",
       "      <th>2</th>\n",
       "      <td>is1_A_TtrpC_brunneo</td>\n",
       "      <td>Cyp450s-PC-PAH_3</td>\n",
       "      <td>A._niger_h4h3</td>\n",
       "      <td>AF414109</td>\n",
       "      <td>is1_B_TtrpC_clavatus</td>\n",
       "      <td>(1, 2, 1, 1, 1)</td>\n",
       "      <td>2</td>\n",
       "    </tr>\n",
       "    <tr>\n",
       "      <th>3</th>\n",
       "      <td>is1_A_TtrpC_brunneo</td>\n",
       "      <td>Cyp450s-PC-PAH_3</td>\n",
       "      <td>A._niger_h4h3</td>\n",
       "      <td>Laccase_Trametes_versic</td>\n",
       "      <td>is1_B_TtrpC_clavatus</td>\n",
       "      <td>(1, 2, 1, 2, 1)</td>\n",
       "      <td>3</td>\n",
       "    </tr>\n",
       "  </tbody>\n",
       "</table>\n",
       "</div>"
      ],
      "text/plain": [
       "                A_site            CYP450       Promoter  \\\n",
       "0  is1_A_TtrpC_brunneo   Cyp450-PC-PAH_1  A._niger_h4h3   \n",
       "1  is1_A_TtrpC_brunneo   Cyp450-PC-PAH_1  A._niger_h4h3   \n",
       "2  is1_A_TtrpC_brunneo  Cyp450s-PC-PAH_3  A._niger_h4h3   \n",
       "3  is1_A_TtrpC_brunneo  Cyp450s-PC-PAH_3  A._niger_h4h3   \n",
       "\n",
       "                   Laccase                   CPR  Systematic_name  Variant  \n",
       "0                 AF414109  is1_B_TtrpC_clavatus  (1, 1, 1, 1, 1)        0  \n",
       "1  Laccase_Trametes_versic  is1_B_TtrpC_clavatus  (1, 1, 1, 2, 1)        1  \n",
       "2                 AF414109  is1_B_TtrpC_clavatus  (1, 2, 1, 1, 1)        2  \n",
       "3  Laccase_Trametes_versic  is1_B_TtrpC_clavatus  (1, 2, 1, 2, 1)        3  "
      ]
     },
     "execution_count": 159,
     "metadata": {},
     "output_type": "execute_result"
    }
   ],
   "source": [
    "combinatorial_lib_variants_IS1_df = combinatorial_lib_variants_IS1_df.rename(columns={0: 'A_site',1: 'CYP450', 2: 'Promoter', 3:'Laccase', 4:'CPR', 5:'B_site'})\n",
    "combinatorial_lib_variants_IS1_df"
   ]
  },
  {
   "attachments": {},
   "cell_type": "markdown",
   "metadata": {
    "id": "2eae88c3-bec8-4e16-970e-2a1e4dd695e1"
   },
   "source": [
    "Lets see how the first assembly overlaps. We can do that with the following code: "
   ]
  },
  {
   "cell_type": "code",
   "execution_count": 153,
   "metadata": {
    "colab": {
     "base_uri": "https://localhost:8080/"
    },
    "id": "d83c6996-208b-4400-a445-0f0b20c979ef",
    "outputId": "81244118-b3d2-407e-bf43-7558687d2db0"
   },
   "outputs": [
    {
     "name": "stdout",
     "output_type": "stream",
     "text": [
      "is1_A_TtrpC_brunneo|50\n",
      "                    \\/\n",
      "                    /\\\n",
      "                    50|Cyp450-PC-PAH_1|50\n",
      "                                       \\/\n",
      "                                       /\\\n",
      "                                       50|A._niger_h4h3|50\n",
      "                                                        \\/\n",
      "                                                        /\\\n",
      "                                                        50|AF414109|50\n",
      "                                                                    \\/\n",
      "                                                                    /\\\n",
      "                                                                    50|is1_B_TtrpC_clavatus\n"
     ]
    }
   ],
   "source": [
    "# the first variant is chosen here\n",
    "subset_of_the_assemblies = IS1_assembly.list_of_assemblies[0]\n",
    "assemble = Assembly(subset_of_the_assemblies, limit = 30)\n",
    "print(assemble.assemble_linear()[0].figure())"
   ]
  },
  {
   "attachments": {},
   "cell_type": "markdown",
   "metadata": {
    "id": "fec87d23-8654-4bf4-baf8-9f013a8fcc2a"
   },
   "source": [
    "How long is the contig?"
   ]
  },
  {
   "cell_type": "code",
   "execution_count": 154,
   "metadata": {
    "colab": {
     "base_uri": "https://localhost:8080/"
    },
    "id": "5966a9ef-40e3-43cc-861b-78f3d88862b8",
    "outputId": "e3fc685b-3b2e-4108-c236-d0ccc2ac94cd"
   },
   "outputs": [
    {
     "data": {
      "text/plain": [
       "[Contig(-7157)]"
      ]
     },
     "execution_count": 154,
     "metadata": {},
     "output_type": "execute_result"
    }
   ],
   "source": [
    "assemble.assemble_linear()"
   ]
  },
  {
   "attachments": {},
   "cell_type": "markdown",
   "metadata": {
    "id": "ccc8e585-2eea-45e9-a487-1d5365c34547"
   },
   "source": [
    "We can retrieve the primers needed for the assembly in the following way:"
   ]
  },
  {
   "cell_type": "code",
   "execution_count": 161,
   "metadata": {
    "colab": {
     "base_uri": "https://localhost:8080/",
     "height": 424
    },
    "id": "5c0b5422-53e7-415b-a304-006bd7fa1b4b",
    "outputId": "1959a406-167e-40ee-b08b-eb30df86e910"
   },
   "outputs": [
    {
     "data": {
      "text/html": [
       "<div>\n",
       "<style scoped>\n",
       "    .dataframe tbody tr th:only-of-type {\n",
       "        vertical-align: middle;\n",
       "    }\n",
       "\n",
       "    .dataframe tbody tr th {\n",
       "        vertical-align: top;\n",
       "    }\n",
       "\n",
       "    .dataframe thead th {\n",
       "        text-align: right;\n",
       "    }\n",
       "</style>\n",
       "<table border=\"1\" class=\"dataframe\">\n",
       "  <thead>\n",
       "    <tr style=\"text-align: right;\">\n",
       "      <th></th>\n",
       "      <th>id</th>\n",
       "      <th>anneals to</th>\n",
       "      <th>sequence</th>\n",
       "      <th>annealing temperature</th>\n",
       "      <th>length</th>\n",
       "      <th>price(DKK)</th>\n",
       "      <th>description</th>\n",
       "      <th>footprint</th>\n",
       "      <th>len_footprint</th>\n",
       "    </tr>\n",
       "  </thead>\n",
       "  <tbody>\n",
       "    <tr>\n",
       "      <th>0</th>\n",
       "      <td>P001</td>\n",
       "      <td>is1_A_TtrpC_brunneo</td>\n",
       "      <td>(C, C, C, C, C, G, T, G, T, C, A, A, A)</td>\n",
       "      <td>55.28</td>\n",
       "      <td>13</td>\n",
       "      <td>23.4</td>\n",
       "      <td>Anneals to is1_A_TtrpC_brunneo</td>\n",
       "      <td>(C, C, C, C, C, G, T, G, T, C, A, A, A)</td>\n",
       "      <td>13</td>\n",
       "    </tr>\n",
       "    <tr>\n",
       "      <th>1</th>\n",
       "      <td>P002</td>\n",
       "      <td>is1_A_TtrpC_brunneo</td>\n",
       "      <td>(T, A, G, A, A, A, G, C, G, G, C, A, G, A, G, ...</td>\n",
       "      <td>56.24</td>\n",
       "      <td>43</td>\n",
       "      <td>77.4</td>\n",
       "      <td>Anneals to is1_A_TtrpC_brunneo, overlaps to so...</td>\n",
       "      <td>(G, G, A, T, C, C, T, A, C, A, A, A, T, G, T, ...</td>\n",
       "      <td>18</td>\n",
       "    </tr>\n",
       "    <tr>\n",
       "      <th>2</th>\n",
       "      <td>P003</td>\n",
       "      <td>Cyp450-PC-PAH_1</td>\n",
       "      <td>(C, G, T, C, T, C, A, A, C, G, A, C, A, T, T, ...</td>\n",
       "      <td>54.84</td>\n",
       "      <td>40</td>\n",
       "      <td>72.0</td>\n",
       "      <td>Anneals to Cyp450-PC-PAH_1, overlaps to is1_A_...</td>\n",
       "      <td>(A, C, C, A, A, C, A, T, G, G, C, T, C, T, G)</td>\n",
       "      <td>15</td>\n",
       "    </tr>\n",
       "    <tr>\n",
       "      <th>3</th>\n",
       "      <td>P004</td>\n",
       "      <td>Cyp450-PC-PAH_1</td>\n",
       "      <td>(G, T, T, T, A, C, T, T, T, A, T, A, G, A, C, ...</td>\n",
       "      <td>55.24</td>\n",
       "      <td>41</td>\n",
       "      <td>73.8</td>\n",
       "      <td>Anneals to Cyp450-PC-PAH_1, overlaps to 878bp_...</td>\n",
       "      <td>(T, C, A, C, A, C, T, G, G, A, A, C, A, A, C, C)</td>\n",
       "      <td>16</td>\n",
       "    </tr>\n",
       "    <tr>\n",
       "      <th>4</th>\n",
       "      <td>P005</td>\n",
       "      <td>A._niger_h4h3</td>\n",
       "      <td>(G, C, C, G, C, T, G, C, G, G, G, T, T, G, T, ...</td>\n",
       "      <td>54.18</td>\n",
       "      <td>45</td>\n",
       "      <td>81.0</td>\n",
       "      <td>Anneals to A._niger_h4h3, overlaps to Cyp450-P...</td>\n",
       "      <td>(T, G, T, G, A, A, G, G, T, T, G, T, C, T, A, ...</td>\n",
       "      <td>20</td>\n",
       "    </tr>\n",
       "    <tr>\n",
       "      <th>5</th>\n",
       "      <td>P006</td>\n",
       "      <td>A._niger_h4h3</td>\n",
       "      <td>(C, G, A, A, A, A, G, A, G, A, G, T, G, A, A, ...</td>\n",
       "      <td>53.61</td>\n",
       "      <td>46</td>\n",
       "      <td>82.8</td>\n",
       "      <td>Anneals to A._niger_h4h3, overlaps to lac1_CDS...</td>\n",
       "      <td>(C, T, T, A, G, T, G, G, A, T, T, A, A, G, T, ...</td>\n",
       "      <td>21</td>\n",
       "    </tr>\n",
       "    <tr>\n",
       "      <th>6</th>\n",
       "      <td>P007</td>\n",
       "      <td>AF414109</td>\n",
       "      <td>(A, A, T, C, C, A, T, C, A, A, A, C, T, T, A, ...</td>\n",
       "      <td>54.47</td>\n",
       "      <td>42</td>\n",
       "      <td>75.6</td>\n",
       "      <td>Anneals to AF414109, overlaps to A._niger_h4h3</td>\n",
       "      <td>(A, T, G, T, C, G, A, G, G, T, T, T, C, A, C, ...</td>\n",
       "      <td>17</td>\n",
       "    </tr>\n",
       "    <tr>\n",
       "      <th>7</th>\n",
       "      <td>P008</td>\n",
       "      <td>AF414109</td>\n",
       "      <td>(G, A, T, G, T, C, G, A, A, A, A, C, G, T, T, ...</td>\n",
       "      <td>53.38</td>\n",
       "      <td>39</td>\n",
       "      <td>70.2</td>\n",
       "      <td>Anneals to AF414109, overlaps to 1623bp_PCR_prod</td>\n",
       "      <td>(T, T, A, C, T, G, G, T, C, G, C, T, C, G)</td>\n",
       "      <td>14</td>\n",
       "    </tr>\n",
       "    <tr>\n",
       "      <th>8</th>\n",
       "      <td>P009</td>\n",
       "      <td>is1_B_TtrpC_clavatus</td>\n",
       "      <td>(C, G, C, G, C, G, C, G, A, C, C, C, G, A, G, ...</td>\n",
       "      <td>57.04</td>\n",
       "      <td>39</td>\n",
       "      <td>70.2</td>\n",
       "      <td>Anneals to is1_B_TtrpC_clavatus, overlaps to A...</td>\n",
       "      <td>(G, G, A, C, C, C, T, A, C, C, A, A, C, G)</td>\n",
       "      <td>14</td>\n",
       "    </tr>\n",
       "    <tr>\n",
       "      <th>9</th>\n",
       "      <td>P010</td>\n",
       "      <td>is1_B_TtrpC_clavatus</td>\n",
       "      <td>(G, C, T, G, A, G, G, A, C, T, T, A, A, T, A, ...</td>\n",
       "      <td>56.86</td>\n",
       "      <td>23</td>\n",
       "      <td>41.4</td>\n",
       "      <td>Anneals to is1_B_TtrpC_clavatus</td>\n",
       "      <td>(G, C, T, G, A, G, G, A, C, T, T, A, A, T, A, ...</td>\n",
       "      <td>23</td>\n",
       "    </tr>\n",
       "    <tr>\n",
       "      <th>10</th>\n",
       "      <td>P011</td>\n",
       "      <td>A._niger_h4h3</td>\n",
       "      <td>(C, G, A, G, A, A, G, A, G, A, G, T, G, A, A, ...</td>\n",
       "      <td>53.61</td>\n",
       "      <td>46</td>\n",
       "      <td>82.8</td>\n",
       "      <td>Anneals to A._niger_h4h3, overlaps to source</td>\n",
       "      <td>(C, T, T, A, G, T, G, G, A, T, T, A, A, G, T, ...</td>\n",
       "      <td>21</td>\n",
       "    </tr>\n",
       "    <tr>\n",
       "      <th>11</th>\n",
       "      <td>P012</td>\n",
       "      <td>is1_A_TtrpC_brunneo</td>\n",
       "      <td>(A, G, T, A, G, T, C, G, T, A, A, A, G, A, A, ...</td>\n",
       "      <td>56.24</td>\n",
       "      <td>43</td>\n",
       "      <td>77.4</td>\n",
       "      <td>Anneals to is1_A_TtrpC_brunneo, overlaps to CD...</td>\n",
       "      <td>(G, G, A, T, C, C, T, A, C, A, A, A, T, G, T, ...</td>\n",
       "      <td>18</td>\n",
       "    </tr>\n",
       "    <tr>\n",
       "      <th>12</th>\n",
       "      <td>P013</td>\n",
       "      <td>Cyp450s-PC-PAH_3</td>\n",
       "      <td>(C, G, T, C, T, C, A, A, C, G, A, C, A, T, T, ...</td>\n",
       "      <td>55.24</td>\n",
       "      <td>45</td>\n",
       "      <td>81.0</td>\n",
       "      <td>Anneals to Cyp450s-PC-PAH_3, overlaps to is1_A...</td>\n",
       "      <td>(A, T, G, T, C, T, C, G, T, T, T, T, C, T, T, ...</td>\n",
       "      <td>20</td>\n",
       "    </tr>\n",
       "    <tr>\n",
       "      <th>13</th>\n",
       "      <td>P014</td>\n",
       "      <td>Cyp450s-PC-PAH_3</td>\n",
       "      <td>(G, T, T, T, A, C, T, T, T, A, T, A, G, A, C, ...</td>\n",
       "      <td>55.36</td>\n",
       "      <td>44</td>\n",
       "      <td>79.2</td>\n",
       "      <td>Anneals to Cyp450s-PC-PAH_3, overlaps to 878bp...</td>\n",
       "      <td>(T, C, A, A, T, C, G, T, T, C, A, A, A, C, A, ...</td>\n",
       "      <td>19</td>\n",
       "    </tr>\n",
       "    <tr>\n",
       "      <th>14</th>\n",
       "      <td>P015</td>\n",
       "      <td>A._niger_h4h3</td>\n",
       "      <td>(T, C, G, G, T, C, A, G, C, A, T, G, T, T, T, ...</td>\n",
       "      <td>54.18</td>\n",
       "      <td>45</td>\n",
       "      <td>81.0</td>\n",
       "      <td>Anneals to A._niger_h4h3, overlaps to Cyp450s-...</td>\n",
       "      <td>(T, G, T, G, A, A, G, G, T, T, G, T, C, T, A, ...</td>\n",
       "      <td>20</td>\n",
       "    </tr>\n",
       "  </tbody>\n",
       "</table>\n",
       "</div>"
      ],
      "text/plain": [
       "      id            anneals to  \\\n",
       "0   P001   is1_A_TtrpC_brunneo   \n",
       "1   P002   is1_A_TtrpC_brunneo   \n",
       "2   P003       Cyp450-PC-PAH_1   \n",
       "3   P004       Cyp450-PC-PAH_1   \n",
       "4   P005         A._niger_h4h3   \n",
       "5   P006         A._niger_h4h3   \n",
       "6   P007              AF414109   \n",
       "7   P008              AF414109   \n",
       "8   P009  is1_B_TtrpC_clavatus   \n",
       "9   P010  is1_B_TtrpC_clavatus   \n",
       "10  P011         A._niger_h4h3   \n",
       "11  P012   is1_A_TtrpC_brunneo   \n",
       "12  P013      Cyp450s-PC-PAH_3   \n",
       "13  P014      Cyp450s-PC-PAH_3   \n",
       "14  P015         A._niger_h4h3   \n",
       "\n",
       "                                             sequence  annealing temperature  \\\n",
       "0             (C, C, C, C, C, G, T, G, T, C, A, A, A)                  55.28   \n",
       "1   (T, A, G, A, A, A, G, C, G, G, C, A, G, A, G, ...                  56.24   \n",
       "2   (C, G, T, C, T, C, A, A, C, G, A, C, A, T, T, ...                  54.84   \n",
       "3   (G, T, T, T, A, C, T, T, T, A, T, A, G, A, C, ...                  55.24   \n",
       "4   (G, C, C, G, C, T, G, C, G, G, G, T, T, G, T, ...                  54.18   \n",
       "5   (C, G, A, A, A, A, G, A, G, A, G, T, G, A, A, ...                  53.61   \n",
       "6   (A, A, T, C, C, A, T, C, A, A, A, C, T, T, A, ...                  54.47   \n",
       "7   (G, A, T, G, T, C, G, A, A, A, A, C, G, T, T, ...                  53.38   \n",
       "8   (C, G, C, G, C, G, C, G, A, C, C, C, G, A, G, ...                  57.04   \n",
       "9   (G, C, T, G, A, G, G, A, C, T, T, A, A, T, A, ...                  56.86   \n",
       "10  (C, G, A, G, A, A, G, A, G, A, G, T, G, A, A, ...                  53.61   \n",
       "11  (A, G, T, A, G, T, C, G, T, A, A, A, G, A, A, ...                  56.24   \n",
       "12  (C, G, T, C, T, C, A, A, C, G, A, C, A, T, T, ...                  55.24   \n",
       "13  (G, T, T, T, A, C, T, T, T, A, T, A, G, A, C, ...                  55.36   \n",
       "14  (T, C, G, G, T, C, A, G, C, A, T, G, T, T, T, ...                  54.18   \n",
       "\n",
       "    length  price(DKK)                                        description  \\\n",
       "0       13        23.4                     Anneals to is1_A_TtrpC_brunneo   \n",
       "1       43        77.4  Anneals to is1_A_TtrpC_brunneo, overlaps to so...   \n",
       "2       40        72.0  Anneals to Cyp450-PC-PAH_1, overlaps to is1_A_...   \n",
       "3       41        73.8  Anneals to Cyp450-PC-PAH_1, overlaps to 878bp_...   \n",
       "4       45        81.0  Anneals to A._niger_h4h3, overlaps to Cyp450-P...   \n",
       "5       46        82.8  Anneals to A._niger_h4h3, overlaps to lac1_CDS...   \n",
       "6       42        75.6     Anneals to AF414109, overlaps to A._niger_h4h3   \n",
       "7       39        70.2   Anneals to AF414109, overlaps to 1623bp_PCR_prod   \n",
       "8       39        70.2  Anneals to is1_B_TtrpC_clavatus, overlaps to A...   \n",
       "9       23        41.4                    Anneals to is1_B_TtrpC_clavatus   \n",
       "10      46        82.8       Anneals to A._niger_h4h3, overlaps to source   \n",
       "11      43        77.4  Anneals to is1_A_TtrpC_brunneo, overlaps to CD...   \n",
       "12      45        81.0  Anneals to Cyp450s-PC-PAH_3, overlaps to is1_A...   \n",
       "13      44        79.2  Anneals to Cyp450s-PC-PAH_3, overlaps to 878bp...   \n",
       "14      45        81.0  Anneals to A._niger_h4h3, overlaps to Cyp450s-...   \n",
       "\n",
       "                                            footprint  len_footprint  \n",
       "0             (C, C, C, C, C, G, T, G, T, C, A, A, A)             13  \n",
       "1   (G, G, A, T, C, C, T, A, C, A, A, A, T, G, T, ...             18  \n",
       "2       (A, C, C, A, A, C, A, T, G, G, C, T, C, T, G)             15  \n",
       "3    (T, C, A, C, A, C, T, G, G, A, A, C, A, A, C, C)             16  \n",
       "4   (T, G, T, G, A, A, G, G, T, T, G, T, C, T, A, ...             20  \n",
       "5   (C, T, T, A, G, T, G, G, A, T, T, A, A, G, T, ...             21  \n",
       "6   (A, T, G, T, C, G, A, G, G, T, T, T, C, A, C, ...             17  \n",
       "7          (T, T, A, C, T, G, G, T, C, G, C, T, C, G)             14  \n",
       "8          (G, G, A, C, C, C, T, A, C, C, A, A, C, G)             14  \n",
       "9   (G, C, T, G, A, G, G, A, C, T, T, A, A, T, A, ...             23  \n",
       "10  (C, T, T, A, G, T, G, G, A, T, T, A, A, G, T, ...             21  \n",
       "11  (G, G, A, T, C, C, T, A, C, A, A, A, T, G, T, ...             18  \n",
       "12  (A, T, G, T, C, T, C, G, T, T, T, T, C, T, T, ...             20  \n",
       "13  (T, C, A, A, T, C, G, T, T, C, A, A, A, C, A, ...             19  \n",
       "14  (T, G, T, G, A, A, G, G, T, T, G, T, C, T, A, ...             20  "
      ]
     },
     "execution_count": 161,
     "metadata": {},
     "output_type": "execute_result"
    }
   ],
   "source": [
    "IS1_primer_df = IS1_assembly.primer_list_to_dataframe()\n",
    "IS1_primer_df"
   ]
  },
  {
   "cell_type": "code",
   "execution_count": 162,
   "metadata": {},
   "outputs": [
    {
     "data": {
      "text/html": [
       "<div>\n",
       "<style scoped>\n",
       "    .dataframe tbody tr th:only-of-type {\n",
       "        vertical-align: middle;\n",
       "    }\n",
       "\n",
       "    .dataframe tbody tr th {\n",
       "        vertical-align: top;\n",
       "    }\n",
       "\n",
       "    .dataframe thead th {\n",
       "        text-align: right;\n",
       "    }\n",
       "</style>\n",
       "<table border=\"1\" class=\"dataframe\">\n",
       "  <thead>\n",
       "    <tr style=\"text-align: right;\">\n",
       "      <th></th>\n",
       "      <th>id</th>\n",
       "      <th>anneals to</th>\n",
       "      <th>sequence</th>\n",
       "      <th>annealing temperature</th>\n",
       "      <th>length</th>\n",
       "      <th>price(DKK)</th>\n",
       "      <th>description</th>\n",
       "      <th>footprint</th>\n",
       "      <th>len_footprint</th>\n",
       "    </tr>\n",
       "  </thead>\n",
       "  <tbody>\n",
       "    <tr>\n",
       "      <th>0</th>\n",
       "      <td>P001</td>\n",
       "      <td>is2_A_TtrpC_nidulans</td>\n",
       "      <td>(A, T, T, A, C, G, T, A, G, A, G, A, G, A, G, ...</td>\n",
       "      <td>54.53</td>\n",
       "      <td>18</td>\n",
       "      <td>32.4</td>\n",
       "      <td>Anneals to is2_A_TtrpC_nidulans</td>\n",
       "      <td>(A, T, T, A, C, G, T, A, G, A, G, A, G, A, G, ...</td>\n",
       "      <td>18</td>\n",
       "    </tr>\n",
       "    <tr>\n",
       "      <th>1</th>\n",
       "      <td>P002</td>\n",
       "      <td>is2_A_TtrpC_nidulans</td>\n",
       "      <td>(G, G, G, A, A, G, A, G, C, G, C, T, A, G, C, ...</td>\n",
       "      <td>55.23</td>\n",
       "      <td>43</td>\n",
       "      <td>77.4</td>\n",
       "      <td>Anneals to is2_A_TtrpC_nidulans, overlaps to s...</td>\n",
       "      <td>(G, G, A, T, C, C, A, C, T, T, A, A, C, G, T, ...</td>\n",
       "      <td>18</td>\n",
       "    </tr>\n",
       "    <tr>\n",
       "      <th>2</th>\n",
       "      <td>P003</td>\n",
       "      <td>Manganese_peroxidase_(m</td>\n",
       "      <td>(G, A, T, T, T, C, A, G, T, A, A, C, G, T, T, ...</td>\n",
       "      <td>55.23</td>\n",
       "      <td>41</td>\n",
       "      <td>73.8</td>\n",
       "      <td>Anneals to Manganese_peroxidase_(m, overlaps t...</td>\n",
       "      <td>(G, T, A, C, A, G, T, C, G, A, G, C, T, A, G, C)</td>\n",
       "      <td>16</td>\n",
       "    </tr>\n",
       "    <tr>\n",
       "      <th>3</th>\n",
       "      <td>P004</td>\n",
       "      <td>Manganese_peroxidase_(m</td>\n",
       "      <td>(C, C, T, T, T, T, T, T, A, A, T, T, C, A, C, ...</td>\n",
       "      <td>54.42</td>\n",
       "      <td>42</td>\n",
       "      <td>75.6</td>\n",
       "      <td>Anneals to Manganese_peroxidase_(m, overlaps t...</td>\n",
       "      <td>(G, C, T, C, A, A, G, A, T, C, A, A, C, G, T, ...</td>\n",
       "      <td>17</td>\n",
       "    </tr>\n",
       "    <tr>\n",
       "      <th>4</th>\n",
       "      <td>P005</td>\n",
       "      <td>A._clavatus_h4h3</td>\n",
       "      <td>(G, N, T, C, C, C, G, G, T, G, A, C, G, T, T, ...</td>\n",
       "      <td>55.29</td>\n",
       "      <td>50</td>\n",
       "      <td>90.0</td>\n",
       "      <td>Anneals to A._clavatus_h4h3, overlaps to Manga...</td>\n",
       "      <td>(T, T, T, G, A, T, A, G, A, T, G, T, G, A, A, ...</td>\n",
       "      <td>25</td>\n",
       "    </tr>\n",
       "    <tr>\n",
       "      <th>5</th>\n",
       "      <td>P006</td>\n",
       "      <td>A._clavatus_h4h3</td>\n",
       "      <td>(A, T, C, G, A, G, T, C, A, T, T, G, G, G, G, ...</td>\n",
       "      <td>56.31</td>\n",
       "      <td>47</td>\n",
       "      <td>84.6</td>\n",
       "      <td>Anneals to A._clavatus_h4h3, overlaps to source</td>\n",
       "      <td>(T, T, T, T, G, A, T, G, A, T, T, A, G, G, T, ...</td>\n",
       "      <td>22</td>\n",
       "    </tr>\n",
       "    <tr>\n",
       "      <th>6</th>\n",
       "      <td>P007</td>\n",
       "      <td>Lignin_peroxidase_(LPG1</td>\n",
       "      <td>(A, A, T, C, C, A, T, C, A, A, A, C, C, T, A, ...</td>\n",
       "      <td>60.70</td>\n",
       "      <td>38</td>\n",
       "      <td>68.4</td>\n",
       "      <td>Anneals to Lignin_peroxidase_(LPG1, overlaps t...</td>\n",
       "      <td>(G, C, C, T, G, C, T, G, A, C, C, C, C)</td>\n",
       "      <td>13</td>\n",
       "    </tr>\n",
       "    <tr>\n",
       "      <th>7</th>\n",
       "      <td>P008</td>\n",
       "      <td>Lignin_peroxidase_(LPG1</td>\n",
       "      <td>(A, A, T, G, C, C, A, G, C, A, A, C, A, T, T, ...</td>\n",
       "      <td>61.11</td>\n",
       "      <td>45</td>\n",
       "      <td>81.0</td>\n",
       "      <td>Anneals to Lignin_peroxidase_(LPG1, overlaps t...</td>\n",
       "      <td>(G, T, A, C, T, C, A, A, T, C, G, C, T, G, G, ...</td>\n",
       "      <td>20</td>\n",
       "    </tr>\n",
       "    <tr>\n",
       "      <th>8</th>\n",
       "      <td>P009</td>\n",
       "      <td>is2_B_TtrpC_niger</td>\n",
       "      <td>(C, A, C, A, T, C, T, T, T, G, C, C, A, G, C, ...</td>\n",
       "      <td>54.35</td>\n",
       "      <td>41</td>\n",
       "      <td>73.8</td>\n",
       "      <td>Anneals to is2_B_TtrpC_niger, overlaps to Lign...</td>\n",
       "      <td>(A, G, A, T, C, C, C, A, C, C, A, A, T, G, T, T)</td>\n",
       "      <td>16</td>\n",
       "    </tr>\n",
       "    <tr>\n",
       "      <th>9</th>\n",
       "      <td>P010</td>\n",
       "      <td>is2_B_TtrpC_niger</td>\n",
       "      <td>(T, C, T, G, A, G, A, A, A, A, A, G, A, T, G, ...</td>\n",
       "      <td>56.14</td>\n",
       "      <td>18</td>\n",
       "      <td>32.4</td>\n",
       "      <td>Anneals to is2_B_TtrpC_niger</td>\n",
       "      <td>(T, C, T, G, A, G, A, A, A, A, A, G, A, T, G, ...</td>\n",
       "      <td>18</td>\n",
       "    </tr>\n",
       "  </tbody>\n",
       "</table>\n",
       "</div>"
      ],
      "text/plain": [
       "     id               anneals to  \\\n",
       "0  P001     is2_A_TtrpC_nidulans   \n",
       "1  P002     is2_A_TtrpC_nidulans   \n",
       "2  P003  Manganese_peroxidase_(m   \n",
       "3  P004  Manganese_peroxidase_(m   \n",
       "4  P005         A._clavatus_h4h3   \n",
       "5  P006         A._clavatus_h4h3   \n",
       "6  P007  Lignin_peroxidase_(LPG1   \n",
       "7  P008  Lignin_peroxidase_(LPG1   \n",
       "8  P009        is2_B_TtrpC_niger   \n",
       "9  P010        is2_B_TtrpC_niger   \n",
       "\n",
       "                                            sequence  annealing temperature  \\\n",
       "0  (A, T, T, A, C, G, T, A, G, A, G, A, G, A, G, ...                  54.53   \n",
       "1  (G, G, G, A, A, G, A, G, C, G, C, T, A, G, C, ...                  55.23   \n",
       "2  (G, A, T, T, T, C, A, G, T, A, A, C, G, T, T, ...                  55.23   \n",
       "3  (C, C, T, T, T, T, T, T, A, A, T, T, C, A, C, ...                  54.42   \n",
       "4  (G, N, T, C, C, C, G, G, T, G, A, C, G, T, T, ...                  55.29   \n",
       "5  (A, T, C, G, A, G, T, C, A, T, T, G, G, G, G, ...                  56.31   \n",
       "6  (A, A, T, C, C, A, T, C, A, A, A, C, C, T, A, ...                  60.70   \n",
       "7  (A, A, T, G, C, C, A, G, C, A, A, C, A, T, T, ...                  61.11   \n",
       "8  (C, A, C, A, T, C, T, T, T, G, C, C, A, G, C, ...                  54.35   \n",
       "9  (T, C, T, G, A, G, A, A, A, A, A, G, A, T, G, ...                  56.14   \n",
       "\n",
       "   length  price(DKK)                                        description  \\\n",
       "0      18        32.4                    Anneals to is2_A_TtrpC_nidulans   \n",
       "1      43        77.4  Anneals to is2_A_TtrpC_nidulans, overlaps to s...   \n",
       "2      41        73.8  Anneals to Manganese_peroxidase_(m, overlaps t...   \n",
       "3      42        75.6  Anneals to Manganese_peroxidase_(m, overlaps t...   \n",
       "4      50        90.0  Anneals to A._clavatus_h4h3, overlaps to Manga...   \n",
       "5      47        84.6    Anneals to A._clavatus_h4h3, overlaps to source   \n",
       "6      38        68.4  Anneals to Lignin_peroxidase_(LPG1, overlaps t...   \n",
       "7      45        81.0  Anneals to Lignin_peroxidase_(LPG1, overlaps t...   \n",
       "8      41        73.8  Anneals to is2_B_TtrpC_niger, overlaps to Lign...   \n",
       "9      18        32.4                       Anneals to is2_B_TtrpC_niger   \n",
       "\n",
       "                                           footprint  len_footprint  \n",
       "0  (A, T, T, A, C, G, T, A, G, A, G, A, G, A, G, ...             18  \n",
       "1  (G, G, A, T, C, C, A, C, T, T, A, A, C, G, T, ...             18  \n",
       "2   (G, T, A, C, A, G, T, C, G, A, G, C, T, A, G, C)             16  \n",
       "3  (G, C, T, C, A, A, G, A, T, C, A, A, C, G, T, ...             17  \n",
       "4  (T, T, T, G, A, T, A, G, A, T, G, T, G, A, A, ...             25  \n",
       "5  (T, T, T, T, G, A, T, G, A, T, T, A, G, G, T, ...             22  \n",
       "6            (G, C, C, T, G, C, T, G, A, C, C, C, C)             13  \n",
       "7  (G, T, A, C, T, C, A, A, T, C, G, C, T, G, G, ...             20  \n",
       "8   (A, G, A, T, C, C, C, A, C, C, A, A, T, G, T, T)             16  \n",
       "9  (T, C, T, G, A, G, A, A, A, A, A, G, A, T, G, ...             18  "
      ]
     },
     "execution_count": 162,
     "metadata": {},
     "output_type": "execute_result"
    }
   ],
   "source": [
    "IS2_primer_df = IS2_assembly.primer_list_to_dataframe()\n",
    "IS2_primer_df"
   ]
  },
  {
   "cell_type": "code",
   "execution_count": 147,
   "metadata": {},
   "outputs": [
    {
     "data": {
      "text/plain": [
       "Seq('TAGAAAGCGGCAGAGCCATGTTGGTGGATCCTACAAATGTCGT')"
      ]
     },
     "execution_count": 147,
     "metadata": {},
     "output_type": "execute_result"
    }
   ],
   "source": [
    "IS1_primer_df.sequence[1]"
   ]
  },
  {
   "cell_type": "code",
   "execution_count": 134,
   "metadata": {},
   "outputs": [
    {
     "data": {
      "text/plain": [
       "578"
      ]
     },
     "execution_count": 134,
     "metadata": {},
     "output_type": "execute_result"
    }
   ],
   "source": [
    "Total_bases = IS1_primer_df['length'].sum()\n",
    "Total_bases"
   ]
  },
  {
   "cell_type": "code",
   "execution_count": 164,
   "metadata": {},
   "outputs": [
    {
     "name": "stdout",
     "output_type": "stream",
     "text": [
      "The total price of the primers for the IS1 library is: 1069\n"
     ]
    }
   ],
   "source": [
    "Total_price = IS1_primer_df['price(DKK)'].sum()\n",
    "print(f\"The total price of the primers for the IS1 library is: {Total_price:.0f}\")"
   ]
  },
  {
   "cell_type": "code",
   "execution_count": 165,
   "metadata": {},
   "outputs": [
    {
     "name": "stdout",
     "output_type": "stream",
     "text": [
      "The total price of the primers for the IS2 library is: 689\n"
     ]
    }
   ],
   "source": [
    "Total_price = IS2_primer_df['price(DKK)'].sum()\n",
    "print(f\"The total price of the primers for the IS2 library is: {Total_price:.0f}\")"
   ]
  },
  {
   "cell_type": "code",
   "execution_count": null,
   "metadata": {},
   "outputs": [
    {
     "name": "stdout",
     "output_type": "stream",
     "text": [
      "The total price of the primers for the library is: 1040\n"
     ]
    }
   ],
   "source": [
    "Total_price = IS1_primer_df['price(DKK)'].sum()\n",
    "print(f\"The total price of the primers for the library is: {Total_price:.0f}\")"
   ]
  },
  {
   "cell_type": "code",
   "execution_count": 128,
   "metadata": {},
   "outputs": [
    {
     "data": {
      "text/plain": [
       "1"
      ]
     },
     "execution_count": 128,
     "metadata": {},
     "output_type": "execute_result"
    }
   ],
   "source": [
    "larger_than_60 = IS1_primer_df[IS1_primer_df.length > 60]\n",
    "len(larger_than_60)"
   ]
  },
  {
   "attachments": {},
   "cell_type": "markdown",
   "metadata": {
    "id": "f5ac0d7d-8d51-4887-90d0-fe94b817ab8c"
   },
   "source": [
    "If we want to take a closer look at the PCRs needed to complete the library do the following: "
   ]
  },
  {
   "cell_type": "code",
   "execution_count": 166,
   "metadata": {
    "colab": {
     "base_uri": "https://localhost:8080/",
     "height": 1000
    },
    "id": "3c6dfb2a-1a32-43ff-9b1b-8b7a70d9209d",
    "outputId": "95758c39-3085-49ec-f46c-4d8e77981369"
   },
   "outputs": [
    {
     "data": {
      "text/html": [
       "<div>\n",
       "<style scoped>\n",
       "    .dataframe tbody tr th:only-of-type {\n",
       "        vertical-align: middle;\n",
       "    }\n",
       "\n",
       "    .dataframe tbody tr th {\n",
       "        vertical-align: top;\n",
       "    }\n",
       "\n",
       "    .dataframe thead th {\n",
       "        text-align: right;\n",
       "    }\n",
       "</style>\n",
       "<table border=\"1\" class=\"dataframe\">\n",
       "  <thead>\n",
       "    <tr style=\"text-align: right;\">\n",
       "      <th></th>\n",
       "      <th>pcr_number</th>\n",
       "      <th>template</th>\n",
       "      <th>forward_primer</th>\n",
       "      <th>reverse_primer</th>\n",
       "      <th>f_tm</th>\n",
       "      <th>r_tm</th>\n",
       "    </tr>\n",
       "  </thead>\n",
       "  <tbody>\n",
       "    <tr>\n",
       "      <th>0</th>\n",
       "      <td>PCR1</td>\n",
       "      <td>is1_A_TtrpC_brunneo</td>\n",
       "      <td>P001</td>\n",
       "      <td>P002</td>\n",
       "      <td>55.28</td>\n",
       "      <td>56.24</td>\n",
       "    </tr>\n",
       "    <tr>\n",
       "      <th>1</th>\n",
       "      <td>PCR2</td>\n",
       "      <td>Cyp450-PC-PAH_1</td>\n",
       "      <td>P003</td>\n",
       "      <td>P004</td>\n",
       "      <td>54.84</td>\n",
       "      <td>55.24</td>\n",
       "    </tr>\n",
       "    <tr>\n",
       "      <th>2</th>\n",
       "      <td>PCR3</td>\n",
       "      <td>A._niger_h4h3</td>\n",
       "      <td>P005</td>\n",
       "      <td>P006</td>\n",
       "      <td>54.18</td>\n",
       "      <td>53.61</td>\n",
       "    </tr>\n",
       "    <tr>\n",
       "      <th>3</th>\n",
       "      <td>PCR4</td>\n",
       "      <td>AF414109</td>\n",
       "      <td>P007</td>\n",
       "      <td>P008</td>\n",
       "      <td>54.47</td>\n",
       "      <td>53.38</td>\n",
       "    </tr>\n",
       "    <tr>\n",
       "      <th>4</th>\n",
       "      <td>PCR5</td>\n",
       "      <td>is1_B_TtrpC_clavatus</td>\n",
       "      <td>P009</td>\n",
       "      <td>P010</td>\n",
       "      <td>57.04</td>\n",
       "      <td>56.86</td>\n",
       "    </tr>\n",
       "    <tr>\n",
       "      <th>5</th>\n",
       "      <td>PCR6</td>\n",
       "      <td>A._niger_h4h3</td>\n",
       "      <td>P005</td>\n",
       "      <td>P011</td>\n",
       "      <td>54.18</td>\n",
       "      <td>53.61</td>\n",
       "    </tr>\n",
       "    <tr>\n",
       "      <th>6</th>\n",
       "      <td>PCR7</td>\n",
       "      <td>Laccase_Trametes_versic</td>\n",
       "      <td>P007</td>\n",
       "      <td>P008</td>\n",
       "      <td>54.47</td>\n",
       "      <td>53.38</td>\n",
       "    </tr>\n",
       "    <tr>\n",
       "      <th>7</th>\n",
       "      <td>PCR8</td>\n",
       "      <td>is1_A_TtrpC_brunneo</td>\n",
       "      <td>P001</td>\n",
       "      <td>P012</td>\n",
       "      <td>55.28</td>\n",
       "      <td>56.24</td>\n",
       "    </tr>\n",
       "    <tr>\n",
       "      <th>8</th>\n",
       "      <td>PCR9</td>\n",
       "      <td>Cyp450s-PC-PAH_3</td>\n",
       "      <td>P013</td>\n",
       "      <td>P014</td>\n",
       "      <td>55.24</td>\n",
       "      <td>55.36</td>\n",
       "    </tr>\n",
       "    <tr>\n",
       "      <th>9</th>\n",
       "      <td>PCR10</td>\n",
       "      <td>A._niger_h4h3</td>\n",
       "      <td>P015</td>\n",
       "      <td>P006</td>\n",
       "      <td>54.18</td>\n",
       "      <td>53.61</td>\n",
       "    </tr>\n",
       "    <tr>\n",
       "      <th>10</th>\n",
       "      <td>PCR11</td>\n",
       "      <td>A._niger_h4h3</td>\n",
       "      <td>P015</td>\n",
       "      <td>P011</td>\n",
       "      <td>54.18</td>\n",
       "      <td>53.61</td>\n",
       "    </tr>\n",
       "  </tbody>\n",
       "</table>\n",
       "</div>"
      ],
      "text/plain": [
       "   pcr_number                 template forward_primer reverse_primer   f_tm  \\\n",
       "0        PCR1      is1_A_TtrpC_brunneo           P001           P002  55.28   \n",
       "1        PCR2          Cyp450-PC-PAH_1           P003           P004  54.84   \n",
       "2        PCR3            A._niger_h4h3           P005           P006  54.18   \n",
       "3        PCR4                 AF414109           P007           P008  54.47   \n",
       "4        PCR5     is1_B_TtrpC_clavatus           P009           P010  57.04   \n",
       "5        PCR6            A._niger_h4h3           P005           P011  54.18   \n",
       "6        PCR7  Laccase_Trametes_versic           P007           P008  54.47   \n",
       "7        PCR8      is1_A_TtrpC_brunneo           P001           P012  55.28   \n",
       "8        PCR9         Cyp450s-PC-PAH_3           P013           P014  55.24   \n",
       "9       PCR10            A._niger_h4h3           P015           P006  54.18   \n",
       "10      PCR11            A._niger_h4h3           P015           P011  54.18   \n",
       "\n",
       "     r_tm  \n",
       "0   56.24  \n",
       "1   55.24  \n",
       "2   53.61  \n",
       "3   53.38  \n",
       "4   56.86  \n",
       "5   53.61  \n",
       "6   53.38  \n",
       "7   56.24  \n",
       "8   55.36  \n",
       "9   53.61  \n",
       "10  53.61  "
      ]
     },
     "execution_count": 166,
     "metadata": {},
     "output_type": "execute_result"
    }
   ],
   "source": [
    "IS1_pcr_df = IS1_assembly.pcr_list_to_dataframe()\n",
    "IS1_pcr_df"
   ]
  },
  {
   "cell_type": "code",
   "execution_count": 167,
   "metadata": {},
   "outputs": [
    {
     "data": {
      "text/html": [
       "<div>\n",
       "<style scoped>\n",
       "    .dataframe tbody tr th:only-of-type {\n",
       "        vertical-align: middle;\n",
       "    }\n",
       "\n",
       "    .dataframe tbody tr th {\n",
       "        vertical-align: top;\n",
       "    }\n",
       "\n",
       "    .dataframe thead th {\n",
       "        text-align: right;\n",
       "    }\n",
       "</style>\n",
       "<table border=\"1\" class=\"dataframe\">\n",
       "  <thead>\n",
       "    <tr style=\"text-align: right;\">\n",
       "      <th></th>\n",
       "      <th>pcr_number</th>\n",
       "      <th>template</th>\n",
       "      <th>forward_primer</th>\n",
       "      <th>reverse_primer</th>\n",
       "      <th>f_tm</th>\n",
       "      <th>r_tm</th>\n",
       "    </tr>\n",
       "  </thead>\n",
       "  <tbody>\n",
       "    <tr>\n",
       "      <th>0</th>\n",
       "      <td>PCR1</td>\n",
       "      <td>is2_A_TtrpC_nidulans</td>\n",
       "      <td>P001</td>\n",
       "      <td>P002</td>\n",
       "      <td>54.53</td>\n",
       "      <td>55.23</td>\n",
       "    </tr>\n",
       "    <tr>\n",
       "      <th>1</th>\n",
       "      <td>PCR2</td>\n",
       "      <td>Manganese_peroxidase_(m</td>\n",
       "      <td>P003</td>\n",
       "      <td>P004</td>\n",
       "      <td>55.23</td>\n",
       "      <td>54.42</td>\n",
       "    </tr>\n",
       "    <tr>\n",
       "      <th>2</th>\n",
       "      <td>PCR3</td>\n",
       "      <td>A._clavatus_h4h3</td>\n",
       "      <td>P005</td>\n",
       "      <td>P006</td>\n",
       "      <td>55.29</td>\n",
       "      <td>56.31</td>\n",
       "    </tr>\n",
       "    <tr>\n",
       "      <th>3</th>\n",
       "      <td>PCR4</td>\n",
       "      <td>Lignin_peroxidase_(LPG1</td>\n",
       "      <td>P007</td>\n",
       "      <td>P008</td>\n",
       "      <td>60.70</td>\n",
       "      <td>61.11</td>\n",
       "    </tr>\n",
       "    <tr>\n",
       "      <th>4</th>\n",
       "      <td>PCR5</td>\n",
       "      <td>is2_B_TtrpC_niger</td>\n",
       "      <td>P009</td>\n",
       "      <td>P010</td>\n",
       "      <td>54.35</td>\n",
       "      <td>56.14</td>\n",
       "    </tr>\n",
       "  </tbody>\n",
       "</table>\n",
       "</div>"
      ],
      "text/plain": [
       "  pcr_number                 template forward_primer reverse_primer   f_tm  \\\n",
       "0       PCR1     is2_A_TtrpC_nidulans           P001           P002  54.53   \n",
       "1       PCR2  Manganese_peroxidase_(m           P003           P004  55.23   \n",
       "2       PCR3         A._clavatus_h4h3           P005           P006  55.29   \n",
       "3       PCR4  Lignin_peroxidase_(LPG1           P007           P008  60.70   \n",
       "4       PCR5        is2_B_TtrpC_niger           P009           P010  54.35   \n",
       "\n",
       "    r_tm  \n",
       "0  55.23  \n",
       "1  54.42  \n",
       "2  56.31  \n",
       "3  61.11  \n",
       "4  56.14  "
      ]
     },
     "execution_count": 167,
     "metadata": {},
     "output_type": "execute_result"
    }
   ],
   "source": [
    "IS2_pcr_df = IS2_assembly.pcr_list_to_dataframe()\n",
    "IS2_pcr_df"
   ]
  },
  {
   "attachments": {},
   "cell_type": "markdown",
   "metadata": {
    "id": "1beb667a-33f6-4b67-9d93-b4d710bc3d41"
   },
   "source": [
    "With this information it is possible to: \n",
    "1. Order the primers\n",
    "2. Go into the lab and make the PCRs."
   ]
  }
 ],
 "metadata": {
  "colab": {
   "collapsed_sections": [],
   "include_colab_link": true,
   "provenance": []
  },
  "kernelspec": {
   "display_name": "Python 3 (ipykernel)",
   "language": "python",
   "name": "python3"
  },
  "language_info": {
   "codemirror_mode": {
    "name": "ipython",
    "version": 3
   },
   "file_extension": ".py",
   "mimetype": "text/x-python",
   "name": "python",
   "nbconvert_exporter": "python",
   "pygments_lexer": "ipython3",
   "version": "3.12.0"
  }
 },
 "nbformat": 4,
 "nbformat_minor": 4
}
